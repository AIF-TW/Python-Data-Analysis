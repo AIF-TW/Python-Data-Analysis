{
 "metadata": {
  "language_info": {
   "codemirror_mode": {
    "name": "ipython",
    "version": 3
   },
   "file_extension": ".py",
   "mimetype": "text/x-python",
   "name": "python",
   "nbconvert_exporter": "python",
   "pygments_lexer": "ipython3",
   "version": 3
  },
  "orig_nbformat": 2
 },
 "nbformat": 4,
 "nbformat_minor": 2,
 "cells": [
  {
   "source": [
    "## 排序陣列內元素\n",
    "\n",
    "針對陣列中的元素，我們也可以進行排序讓他們交換位置，另外在這邊我們也可以利用axis參數讓功能更加彈性。"
   ],
   "cell_type": "markdown",
   "metadata": {}
  },
  {
   "cell_type": "code",
   "execution_count": null,
   "metadata": {},
   "outputs": [],
   "source": [
    "# 創建一個二維陣列\n",
    "x = np.array([[6, 5, 4], [1, 2, 3]])\n",
    "print(x)"
   ]
  },
  {
   "cell_type": "code",
   "execution_count": null,
   "metadata": {},
   "outputs": [],
   "source": [
    "# 使用np.sort排序陣列內元素，預設會沿著最後一個維度做排序\n",
    "np.sort(x)\n",
    "# [[4, 5, 6],\n",
    "#  [1, 2, 3]]"
   ]
  },
  {
   "cell_type": "code",
   "execution_count": null,
   "metadata": {},
   "outputs": [],
   "source": [
    "# 也可以直接使用axis參數指定要依照哪個維度做排序\n",
    "# 在此範例中因為x的維度有(0,1)兩種可能性，指定axis=-1 將等於 axis=1\n",
    "np.sort(x, axis=-1)"
   ]
  },
  {
   "cell_type": "code",
   "execution_count": null,
   "metadata": {},
   "outputs": [],
   "source": [
    "# 依據第一個維度做排序\n",
    "np.sort(x, axis=0)\n",
    "# [[1, 2, 3],\n",
    "#  [6, 5, 4]]"
   ]
  },
  {
   "cell_type": "code",
   "execution_count": null,
   "metadata": {},
   "outputs": [],
   "source": [
    "# 若指定axis = None，則會排序陣列中所有元素並且攤平\n",
    "np.sort(x, axis=None)\n",
    "# [1, 2, 3, 4, 5, 6]"
   ]
  },
  {
   "source": [
    "## 合併或堆疊多個陣列\n",
    "\n",
    "除了對一個陣列做操作之外，有的時候也會遇到將多個陣列合併在一起的狀況，此時依據需求不同我們可以使用concatenate或是stack幫我們做到這件事情。"
   ],
   "cell_type": "markdown",
   "metadata": {}
  },
  {
   "source": [
    "- ### 合併陣列\n",
    "\n",
    "concatenate可以幫助我們把多個陣列沿著某一個維度合併在一起，合併之後的陣列維度會跟原本的維度數量相同，不會額外增加新的維度。\n",
    "\n",
    "要注意的是要合併的陣列除了要合併的維度之外，其餘的維度長度都要一樣喔!\n",
    "\n",
    "<img src='\\image\\concatenate_1.PNG'/>\n",
    "\n",
    "---\n",
    "\n",
    "<img src='\\image\\concatenate_2.PNG'/>"
   ],
   "cell_type": "markdown",
   "metadata": {}
  },
  {
   "cell_type": "code",
   "execution_count": null,
   "metadata": {},
   "outputs": [],
   "source": [
    "# 創建兩個二維陣列\n",
    "a = np.array([[1, 2, 3], [4, 5, 6]])\n",
    "b = np.array([[7, 8, 9]])\n",
    "\n",
    "print(a)\n",
    "print('--------')\n",
    "print(b)"
   ]
  },
  {
   "cell_type": "code",
   "execution_count": null,
   "metadata": {},
   "outputs": [],
   "source": [
    "# 將兩個陣列沿著第一個維度合併起來，我們可以用三個陣列的shape看一下到底發生了甚麼事情\n",
    "c = np.concatenate((a, b), axis=0)\n",
    "print(c)\n",
    "print(a.shape, b.shape, c.shape)\n",
    "# [[1, 2, 3],\n",
    "#  [4, 5, 6],\n",
    "#  [7, 8, 9]]"
   ]
  },
  {
   "cell_type": "code",
   "execution_count": null,
   "metadata": {},
   "outputs": [],
   "source": [
    "# 創建另外一個二維陣列\n",
    "d = np.array([[0], [0]])\n",
    "\n",
    "# 將a與d兩個陣列沿著第二個維度合併起來\n",
    "np.concatenate((a, d), axis=1)\n",
    "# [[1, 2, 3, 0],\n",
    "#  [4, 5, 6, 0]]"
   ]
  },
  {
   "source": [
    "- ### 堆疊陣列\n",
    "\n",
    "stack與concatenate不同的地方在於，需要合併的陣列無論是維度或是各維度的長度都需要相同，另外合併後的陣列會額外新增一個維度。\n",
    "\n",
    "而vstack(vertical stacking)與hstack(horizontal stacking)則與concatenate功能類似，只是不需要指定合併的維度。\n",
    "\n",
    "<img src='\\image\\stack.PNG'/>"
   ],
   "cell_type": "markdown",
   "metadata": {}
  },
  {
   "cell_type": "code",
   "execution_count": null,
   "metadata": {},
   "outputs": [],
   "source": [
    "# 創建三個二維陣列\n",
    "a = np.array([[0, 1],\n",
    "              [2, 3]])\n",
    "\n",
    "b = np.array([[4, 5],\n",
    "              [6, 7]])\n",
    "\n",
    "c = np.array([[8,  9],\n",
    "              [10, 11]])"
   ]
  },
  {
   "cell_type": "code",
   "execution_count": null,
   "metadata": {},
   "outputs": [],
   "source": [
    "# 將三個陣列在第一個維度堆疊起來\n",
    "s = np.stack([a, b, c], axis=0)\n",
    "print(s)\n",
    "print(s.shape)\n",
    "# (3, 2, 2)"
   ]
  },
  {
   "cell_type": "code",
   "execution_count": null,
   "metadata": {},
   "outputs": [],
   "source": [
    "# 將三個陣列沿著第一個維度合併起來\n",
    "v = np.vstack([a, b, c])\n",
    "print(v)\n",
    "print(v.shape)\n",
    "# (6, 2)"
   ]
  },
  {
   "cell_type": "code",
   "execution_count": null,
   "metadata": {},
   "outputs": [],
   "source": [
    "# 將三個陣列沿著第二個維度合併起來\n",
    "h = np.hstack([a, b, c])\n",
    "print(h)\n",
    "print(h.shape)\n",
    "# (2, 6)"
   ]
  }
 ]
}