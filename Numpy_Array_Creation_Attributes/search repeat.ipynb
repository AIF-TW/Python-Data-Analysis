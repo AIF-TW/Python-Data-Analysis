{
 "metadata": {
  "language_info": {
   "codemirror_mode": {
    "name": "ipython",
    "version": 3
   },
   "file_extension": ".py",
   "mimetype": "text/x-python",
   "name": "python",
   "nbconvert_exporter": "python",
   "pygments_lexer": "ipython3",
   "version": 3
  },
  "orig_nbformat": 2
 },
 "nbformat": 4,
 "nbformat_minor": 2,
 "cells": [
  {
   "source": [
    "## 陣列搜尋與判斷\n",
    "\n",
    "在一個陣列中我們也可以做搜尋或是每個元素的判斷，讓我們來看一下要如何操作吧。"
   ],
   "cell_type": "markdown",
   "metadata": {}
  },
  {
   "cell_type": "code",
   "execution_count": null,
   "metadata": {},
   "outputs": [],
   "source": [
    "# 創建一個一維陣列\n",
    "x = np.arange(6)\n",
    "# array([0, 1, 2, 3, 4, 5])\n",
    "\n",
    "# 針對每個元素判斷是不是小於3，若小於3則為True、大於等於3則為False\n",
    "condition = x < 3\n",
    "\n",
    "# 這個只有True / Fasle 的陣列也被稱為布林遮罩(boolean mask)\n",
    "print(condition)\n",
    "# [ True  True  True False False False]"
   ]
  },
  {
   "cell_type": "code",
   "execution_count": null,
   "metadata": {},
   "outputs": [],
   "source": [
    "# 創建一個一維陣列\n",
    "x = np.array([3, 1, 6, 4, 2])\n",
    "\n",
    "# 使用argmax去找陣列中最大的元素索引\n",
    "idx_ = np.argmax(x)\n",
    "print('陣列x中最大數值的索引是:', idx_)\n",
    "print('陣列x中最大數值是 : ', x[idx_])"
   ]
  },
  {
   "source": [
    "我們也可以使用判斷過後的遮罩幫助我們取出陣列中的元素"
   ],
   "cell_type": "markdown",
   "metadata": {}
  },
  {
   "cell_type": "code",
   "execution_count": null,
   "metadata": {},
   "outputs": [],
   "source": [
    "# 創建一個一維陣列\n",
    "x = np.arange(6)\n",
    "# array([0, 1, 2, 3, 4, 5])\n",
    "\n",
    "# 判斷這個陣列的元素是否小於3\n",
    "condition = x < 3\n",
    "\n",
    "# 可以在索引當中放入剛剛的判斷式，就可以只取出小於3的元素們\n",
    "print(x[condition])\n",
    "# [0, 1, 2]"
   ]
  },
  {
   "cell_type": "code",
   "execution_count": null,
   "metadata": {},
   "outputs": [],
   "source": [
    "# 也可以應用這樣個方法直接取代陣列中的元素數值\n",
    "x[condition] = 0\n",
    "print(x)\n",
    "# [0, 0, 0, 3, 4, 5]"
   ]
  },
  {
   "source": [
    "- ### 重複陣列元素\n",
    "\n",
    "如果需要快速複製陣列中的元素，我們可以使用repeat函數功能，而若需要做的是重複整個陣列內容則可以用tile函數做到這件事情。"
   ],
   "cell_type": "markdown",
   "metadata": {}
  },
  {
   "cell_type": "code",
   "execution_count": null,
   "metadata": {},
   "outputs": [],
   "source": [
    "# 創建一個二維陣列\n",
    "x = np.array([[0, 1], [2, 3]])\n",
    "print(x)\n",
    "# [[0, 1]\n",
    "#  [2, 3]]"
   ]
  },
  {
   "cell_type": "code",
   "execution_count": null,
   "metadata": {},
   "outputs": [],
   "source": [
    "# 重複陣列中的元素兩次，預設會將陣列攤平成一維陣列\n",
    "np.repeat(x, repeats=2)\n",
    "# [0, 0, 1, 1, 2, 2, 3, 3]"
   ]
  },
  {
   "cell_type": "code",
   "execution_count": null,
   "metadata": {},
   "outputs": [],
   "source": [
    "# 重複陣列中的元素兩次，預設會將陣列攤平成一維陣列\n",
    "np.repeat(x, repeats=2)\n",
    "# [0, 0, 1, 1, 2, 2, 3, 3]"
   ]
  },
  {
   "cell_type": "code",
   "execution_count": null,
   "metadata": {},
   "outputs": [],
   "source": [
    "# 以axis參數指定要重複時所依據的維度\n",
    "# 指定axis = 0，numpy就會將第一軸index相同的元素(ex.[0, 1])當作同一組做重複。\n",
    "np.repeat(x, repeats=2, axis=0)\n",
    "# [[0, 1],\n",
    "#  [0, 1],\n",
    "#  [2, 3],\n",
    "#  [2, 3]]"
   ]
  },
  {
   "cell_type": "code",
   "execution_count": null,
   "metadata": {},
   "outputs": [],
   "source": [
    "# 以axis參數指定要重複時所依據的維度\n",
    "# 指定axis = 1，numpy就會將第二軸index相同的元素當作同一組做重複。\n",
    "# (ex.[0\n",
    "#     2])\n",
    "\n",
    "np.repeat(x, repeats=2, axis=1)\n",
    "# [[0, 0, 1, 1],\n",
    "#  [2, 2, 3, 3]]"
   ]
  },
  {
   "source": [
    "#### tile 功能"
   ],
   "cell_type": "markdown",
   "metadata": {}
  },
  {
   "cell_type": "code",
   "execution_count": null,
   "metadata": {},
   "outputs": [],
   "source": [
    "# 創建一個二維陣列\n",
    "x = np.array([[0, 1], [2, 3]])\n",
    "print(x)\n",
    "# [[0, 1]\n",
    "#  [2, 3]]"
   ]
  },
  {
   "cell_type": "code",
   "execution_count": null,
   "metadata": {},
   "outputs": [],
   "source": [
    "# 預設在重複時會沿著最後一個維度(在這邊是axis=1)增加\n",
    "np.tile(x, reps=2)\n",
    "# [[0, 1, 0, 1],\n",
    "#  [2, 3, 2, 3]]"
   ]
  },
  {
   "cell_type": "code",
   "execution_count": null,
   "metadata": {},
   "outputs": [],
   "source": [
    "# 預設在重複時會沿著最後一個維度(在這邊是axis=1)增加\n",
    "np.tile(x, reps=2)\n",
    "# [[0, 1, 0, 1],\n",
    "#  [2, 3, 2, 3]]"
   ]
  },
  {
   "cell_type": "code",
   "execution_count": null,
   "metadata": {},
   "outputs": [],
   "source": [
    "# 設定在第一個維度重複兩次，第二個維度不做重複動作\n",
    "np.tile(x, reps=(2, 1))\n",
    "# [[0, 1],\n",
    "#  [2, 3],]\n",
    "#  [0, 1],]\n",
    "#  [2, 3],]"
   ]
  },
  {
   "cell_type": "code",
   "execution_count": null,
   "metadata": {},
   "outputs": [],
   "source": [
    "# 若reps參數中填入的維度大於原本陣列的維度，則會自動增加陣列維度\n",
    "np.tile(x, reps=(2, 2, 2))\n",
    "# [[[0, 1, 0, 1],\n",
    "#  [2, 3, 2, 3],\n",
    "#  [0, 1, 0, 1],\n",
    "#  [2, 3, 2, 3]],\n",
    "#\n",
    "# [[0, 1, 0, 1],\n",
    "#  [2, 3, 2, 3],\n",
    "#  [0, 1, 0, 1],\n",
    "#  [2, 3, 2, 3]]]"
   ]
  },
  {
   "cell_type": "code",
   "execution_count": null,
   "metadata": {},
   "outputs": [],
   "source": [
    "np.tile(x, reps=(2, 2, 2)).shape"
   ]
  }
 ]
}