{
 "metadata": {
  "language_info": {
   "codemirror_mode": {
    "name": "ipython",
    "version": 3
   },
   "file_extension": ".py",
   "mimetype": "text/x-python",
   "name": "python",
   "nbconvert_exporter": "python",
   "pygments_lexer": "ipython3",
   "version": 3
  },
  "orig_nbformat": 2
 },
 "nbformat": 4,
 "nbformat_minor": 2,
 "cells": [
  {
   "cell_type": "code",
   "execution_count": null,
   "metadata": {},
   "outputs": [],
   "source": [
    "import numpy as np"
   ]
  },
  {
   "source": [
    "### reshape 功能\n",
    "\n",
    "reshape是在改變陣列維度中最常被使用的函數，它可以彈性地重塑陣列的形狀、增加、或是減少陣列維度。\n",
    "\n",
    "<img src='./image/reshape.PNG'/>\n",
    "\n",
    "\n",
    "如上面這個例子，原先儲存 [0,1,2,3,4,5] 共六個元素的陣列維度可以是(6, )的一維陣列，也可以是(3,2)的二維陣列，甚至是(2,3,1)的三維陣列，唯一的需求就是改變後陣列的元素總數需與改變前相同。另外值得注意的是在改變形狀後陣列元素會依照維度依序排列，不會隨便亂跑！"
   ],
   "cell_type": "markdown",
   "metadata": {}
  },
  {
   "cell_type": "code",
   "execution_count": null,
   "metadata": {},
   "outputs": [],
   "source": [
    "# 創建一個一維陣列，裡面共有6個元素\n",
    "x = np.arange(6)\n",
    "\n",
    "print(x)\n",
    "print(x.shape)\n",
    "# [0 1 2 3 4 5]"
   ]
  },
  {
   "cell_type": "code",
   "execution_count": null,
   "metadata": {},
   "outputs": [],
   "source": [
    "# 使用reshape 將原本的陣列改成(3,2)的形狀\n",
    "new_x = x.reshape(3, 2)\n",
    "print(new_x)\n",
    "print(new_x.shape)\n",
    "# [[0 1]\n",
    "#  [2 3]\n",
    "#  [4 5]]"
   ]
  },
  {
   "cell_type": "code",
   "execution_count": null,
   "metadata": {},
   "outputs": [],
   "source": [
    "# 使用reshape 將原本的陣列改成(2,3,1)的形狀\n",
    "new_x2 = np.arange(6).reshape(2, 3, 1)\n",
    "print(new_x2)\n",
    "print(new_x2.shape)"
   ]
  },
  {
   "cell_type": "code",
   "execution_count": null,
   "metadata": {},
   "outputs": [],
   "source": [
    "# extra\n",
    "\n",
    "# 如果懶得算要轉換的維度，也可以給予 -1 讓numpy自已計算\n",
    "new_x4 = x.reshape(2, -1)\n",
    "print(new_x4, new_x4.shape)"
   ]
  },
  {
   "source": [
    "expand_dims 與 squeeze 功能\n",
    "相較於reshape強大且彈性的功能，expand_dims與squeeze各自負責的是在不改變陣列形狀的前提下增加或是減少維度。"
   ],
   "cell_type": "markdown",
   "metadata": {}
  },
  {
   "cell_type": "code",
   "execution_count": null,
   "metadata": {},
   "outputs": [],
   "source": [
    "# 創建一個一維陣列\n",
    "x = np.arange(6)\n",
    "print(x, x.shape)"
   ]
  },
  {
   "cell_type": "code",
   "execution_count": null,
   "metadata": {},
   "outputs": [],
   "source": [
    "# 在x這個陣列額外增加一個維度並且命名為x2，在這邊我們加在第一個軸，因此axis = 0\n",
    "x2 = np.expand_dims(x, axis=0)\n",
    "print(x2, x2.shape)"
   ]
  },
  {
   "cell_type": "code",
   "execution_count": null,
   "metadata": {},
   "outputs": [],
   "source": [
    "# 將x2這個陣列裡面多的維度(長度為一的維度)壓縮\n",
    "x3 = np.squeeze(x2)\n",
    "print(x3, x3.shape)"
   ]
  }
 ]
}