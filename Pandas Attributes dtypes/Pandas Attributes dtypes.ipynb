{
 "metadata": {
  "language_info": {
   "codemirror_mode": {
    "name": "ipython",
    "version": 3
   },
   "file_extension": ".py",
   "mimetype": "text/x-python",
   "name": "python",
   "nbconvert_exporter": "python",
   "pygments_lexer": "ipython3",
   "version": "3.7.3-final"
  },
  "orig_nbformat": 2,
  "kernelspec": {
   "name": "Python 3.7.3 64-bit",
   "display_name": "Python 3.7.3 64-bit",
   "metadata": {
    "interpreter": {
     "hash": "31f2aee4e71d21fbe5cf8b01ff0e069b9275f58929596ceb00d14d90e3e16cd6"
    }
   }
  }
 },
 "nbformat": 4,
 "nbformat_minor": 2,
 "cells": [
  {
   "source": [
    "## DataFrame物件的常用屬性和方法\n",
    "\n",
    "還是覺得Excel呈現的資訊比較豐富嗎?別擔心，pandas的DataFrame物件也提供許多方便的方法讓我們可以觀察以及了解資料，第二部分就讓我們來看一下一些最基本的方法吧。"
   ],
   "cell_type": "markdown",
   "metadata": {}
  },
  {
   "source": [
    "- ### 觀察資料\n",
    "\n",
    "當我們手上拿到資料後，首先當然是需要看表格內到底有甚麼欄位、以及資料大概的樣子。但如果資料很大的話要呈現所有資料不僅費時又很容易眼花撩亂，因此通常我們會只看前幾筆資料或是隨機看幾筆資料，在Pandas中我們可以輕易的使用.head()、.tail()、以及.sample()等方式只抽出幾筆資料做觀察。"
   ],
   "cell_type": "markdown",
   "metadata": {}
  },
  {
   "cell_type": "code",
   "execution_count": 2,
   "metadata": {},
   "outputs": [],
   "source": [
    "import pandas as pd\n",
    "import sys\n",
    "sys.path.append(\"..\")\n",
    "from common.utils import *\n",
    "# 產生範例的資料集\n",
    "dataset = CreateDataSet(4)\n",
    "df = pd.DataFrame(data=dataset,\n",
    "                  columns=['State', 'Status', 'CustomerCount', 'StatusDate'])"
   ]
  },
  {
   "cell_type": "code",
   "execution_count": 3,
   "metadata": {},
   "outputs": [
    {
     "output_type": "execute_result",
     "data": {
      "text/plain": [
       "  State  Status  CustomerCount StatusDate\n",
       "0    GA       1            877 2009-01-05\n",
       "1    FL       1            901 2009-01-12\n",
       "2    fl       3            749 2009-01-19\n",
       "3    FL       3            111 2009-01-26\n",
       "4    GA       1            300 2009-02-02"
      ],
      "text/html": "<div>\n<style scoped>\n    .dataframe tbody tr th:only-of-type {\n        vertical-align: middle;\n    }\n\n    .dataframe tbody tr th {\n        vertical-align: top;\n    }\n\n    .dataframe thead th {\n        text-align: right;\n    }\n</style>\n<table border=\"1\" class=\"dataframe\">\n  <thead>\n    <tr style=\"text-align: right;\">\n      <th></th>\n      <th>State</th>\n      <th>Status</th>\n      <th>CustomerCount</th>\n      <th>StatusDate</th>\n    </tr>\n  </thead>\n  <tbody>\n    <tr>\n      <th>0</th>\n      <td>GA</td>\n      <td>1</td>\n      <td>877</td>\n      <td>2009-01-05</td>\n    </tr>\n    <tr>\n      <th>1</th>\n      <td>FL</td>\n      <td>1</td>\n      <td>901</td>\n      <td>2009-01-12</td>\n    </tr>\n    <tr>\n      <th>2</th>\n      <td>fl</td>\n      <td>3</td>\n      <td>749</td>\n      <td>2009-01-19</td>\n    </tr>\n    <tr>\n      <th>3</th>\n      <td>FL</td>\n      <td>3</td>\n      <td>111</td>\n      <td>2009-01-26</td>\n    </tr>\n    <tr>\n      <th>4</th>\n      <td>GA</td>\n      <td>1</td>\n      <td>300</td>\n      <td>2009-02-02</td>\n    </tr>\n  </tbody>\n</table>\n</div>"
     },
     "metadata": {},
     "execution_count": 3
    }
   ],
   "source": [
    "# 使用.head(n=10)的方法觀察前10筆資料，若不輸入n則預設呈現前五筆資料\n",
    "df.head()"
   ]
  },
  {
   "source": [
    "可以看到資料內總共有4個欄位，分別為State、Status、CustomerCount、StatusDate，不同的欄位似乎有不同的資料類型(數字、文字、日期)。\n",
    "\n",
    "另外最前面沒有欄位名稱的部分在Pandas被稱為index(索引)，在沒有指定索引的狀況下會自動由0開始作編號，由於我們呈現的是前10筆資料，因此索引值為0到9。然而除了用數字之外列索引也可以是字串甚至是時間類型的格式。"
   ],
   "cell_type": "markdown",
   "metadata": {}
  },
  {
   "cell_type": "code",
   "execution_count": 4,
   "metadata": {},
   "outputs": [
    {
     "output_type": "execute_result",
     "data": {
      "text/plain": [
       "    State  Status  CustomerCount StatusDate\n",
       "297    fl       2            849 2010-09-13\n",
       "686    FL       2            996 2010-02-22\n",
       "540    GA       1            821 2011-05-09\n",
       "430    NJ       1            863 2009-03-30\n",
       "471    FL       1            573 2010-01-11\n",
       "198    NJ       1            203 2012-10-22"
      ],
      "text/html": "<div>\n<style scoped>\n    .dataframe tbody tr th:only-of-type {\n        vertical-align: middle;\n    }\n\n    .dataframe tbody tr th {\n        vertical-align: top;\n    }\n\n    .dataframe thead th {\n        text-align: right;\n    }\n</style>\n<table border=\"1\" class=\"dataframe\">\n  <thead>\n    <tr style=\"text-align: right;\">\n      <th></th>\n      <th>State</th>\n      <th>Status</th>\n      <th>CustomerCount</th>\n      <th>StatusDate</th>\n    </tr>\n  </thead>\n  <tbody>\n    <tr>\n      <th>297</th>\n      <td>fl</td>\n      <td>2</td>\n      <td>849</td>\n      <td>2010-09-13</td>\n    </tr>\n    <tr>\n      <th>686</th>\n      <td>FL</td>\n      <td>2</td>\n      <td>996</td>\n      <td>2010-02-22</td>\n    </tr>\n    <tr>\n      <th>540</th>\n      <td>GA</td>\n      <td>1</td>\n      <td>821</td>\n      <td>2011-05-09</td>\n    </tr>\n    <tr>\n      <th>430</th>\n      <td>NJ</td>\n      <td>1</td>\n      <td>863</td>\n      <td>2009-03-30</td>\n    </tr>\n    <tr>\n      <th>471</th>\n      <td>FL</td>\n      <td>1</td>\n      <td>573</td>\n      <td>2010-01-11</td>\n    </tr>\n    <tr>\n      <th>198</th>\n      <td>NJ</td>\n      <td>1</td>\n      <td>203</td>\n      <td>2012-10-22</td>\n    </tr>\n  </tbody>\n</table>\n</div>"
     },
     "metadata": {},
     "execution_count": 4
    }
   ],
   "source": [
    "# 使用.sample(n=6)的方法隨機抽出6筆資料\n",
    "# 可以看到是隨機抽出的資料，因此索引的順序是亂的\n",
    "df.sample(n=6)"
   ]
  },
  {
   "source": [
    "- ### 欄位資料型態與描述\n",
    "\n",
    "除了直接觀察資料之外，也可以用一些簡單的方法取得資料筆數、欄位名稱、欄位描述等資訊。"
   ],
   "cell_type": "markdown",
   "metadata": {}
  },
  {
   "cell_type": "code",
   "execution_count": 5,
   "metadata": {},
   "outputs": [
    {
     "output_type": "stream",
     "name": "stdout",
     "text": [
      "(836, 4)\n\nIndex(['State', 'Status', 'CustomerCount', 'StatusDate'], dtype='object')\n\nRangeIndex(start=0, stop=836, step=1)\n\nState                    object\nStatus                    int64\nCustomerCount             int64\nStatusDate       datetime64[ns]\ndtype: object\n\n<class 'pandas.core.frame.DataFrame'>\nRangeIndex: 836 entries, 0 to 835\nData columns (total 4 columns):\n #   Column         Non-Null Count  Dtype         \n---  ------         --------------  -----         \n 0   State          836 non-null    object        \n 1   Status         836 non-null    int64         \n 2   CustomerCount  836 non-null    int64         \n 3   StatusDate     836 non-null    datetime64[ns]\ndtypes: datetime64[ns](1), int64(2), object(1)\nmemory usage: 26.2+ KB\nNone\n\n"
     ]
    }
   ],
   "source": [
    "# 透過.shape屬性得到資料筆數與欄位數量，大家應該可以發現到這與numpy的使用方式非常類似\n",
    "# 可以發現這份資料包含836筆觀察值與4個欄位\n",
    "shape = df.shape\n",
    "print(shape, end='\\n\\n')\n",
    "\n",
    "\n",
    "# .columns屬性可以回傳表格資料內的欄位名稱\n",
    "# 這份資料的欄位名稱分別為State、Status、CustomerCount、StatusDate\n",
    "columns = df.columns\n",
    "print(columns, end='\\n\\n')\n",
    "\n",
    "\n",
    "# .index屬性可以回傳表格資料內的列索引\n",
    "# 在這份資料中的列索引是從0到836的數值索引\n",
    "index_ = df.index\n",
    "print(index_, end='\\n\\n')\n",
    "\n",
    "\n",
    "# .dtypes屬性顯示的是各個欄位的資料型態\n",
    "dtypes = df.dtypes\n",
    "print(dtypes, end='\\n\\n')\n",
    "\n",
    "\n",
    "# 利用.info()方法可以知道表格資料各欄位的數量、資料型態、以及記憶體使用量\n",
    "info = df.info()\n",
    "print(info, end='\\n\\n')"
   ]
  }
 ]
}