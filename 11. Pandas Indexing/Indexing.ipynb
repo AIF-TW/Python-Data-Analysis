{
 "metadata": {
  "language_info": {
   "codemirror_mode": {
    "name": "ipython",
    "version": 3
   },
   "file_extension": ".py",
   "mimetype": "text/x-python",
   "name": "python",
   "nbconvert_exporter": "python",
   "pygments_lexer": "ipython3",
   "version": "3.8.3-final"
  },
  "orig_nbformat": 2,
  "kernelspec": {
   "name": "python3",
   "display_name": "Python 3.8.3 64-bit (conda)",
   "metadata": {
    "interpreter": {
     "hash": "c398e921e193d2c708fce0373310d5247a1133597c4f96c40d97c746ab00282b"
    }
   }
  }
 },
 "nbformat": 4,
 "nbformat_minor": 2,
 "cells": [
  {
   "source": [
    "## DataFrame物件的操作\n",
    "\n",
    "大家最常使用excel的功能是甚麼呢? 在這個部分我們將會教大家一些好用的函數跟方法讓大家可以快速地在python上也可以操作表格資料唷。"
   ],
   "cell_type": "markdown",
   "metadata": {}
  },
  {
   "source": [
    "- ### 使用dataframe的索引\n",
    "\n",
    "在numpy套件裡面我們已經看過索引的用法，同樣地在pandas套件中我們也可以用類似的方法取出部分資料或元素。(將pandas的dataframe想像成二維陣列即可)\n",
    "\n",
    "\n",
    "比較需要注意的是，在pandas中有兩種索引方式，分別為.iloc與.loc兩種方法，若不注意的話可能會取到錯誤的元素。讓我們使用下面的範例來了解這兩種方法的使用差異吧。"
   ],
   "cell_type": "markdown",
   "metadata": {}
  },
  {
   "source": [
    "在pandas中，iloc的使用方式與numpy的索引方式相同，比較容易搞錯的地方是由於它後面接的是中括號而不是小括號"
   ],
   "cell_type": "markdown",
   "metadata": {}
  },
  {
   "cell_type": "code",
   "execution_count": 1,
   "metadata": {},
   "outputs": [],
   "source": [
    "import pandas as pd\n",
    "import numpy as np"
   ]
  },
  {
   "cell_type": "code",
   "execution_count": 2,
   "metadata": {},
   "outputs": [],
   "source": [
    "# set seed\n",
    "np.random.seed(111)\n",
    "# Function to generate test data\n",
    "def CreateDataSet(Number=1):\n",
    "    Output = []\n",
    "    for i in range(Number):\n",
    "        # Create a weekly (mondays) date range\n",
    "        rng = pd.date_range(start='1/1/2009', end='12/31/2012', freq='W-MON') #random number generator\n",
    "        \n",
    "        # Create random data\n",
    "        data = np.random.randint(low=25, high=1000, size=len(rng))\n",
    "        \n",
    "        # Status pool\n",
    "        status = [1,2,3]\n",
    "        \n",
    "        # Make a random list of statuses\n",
    "        random_status = [status[np.random.randint(low=0, high=len(status))] for i in range(len(rng))]\n",
    "        \n",
    "        # State pool\n",
    "        states = ['GA','FL','fl','NY','NJ','TX']\n",
    "        \n",
    "        # Make a random list of states \n",
    "        random_states = [states[np.random.randint(low=0, high=len(states))] for i in range(len(rng))]\n",
    "    \n",
    "        Output.extend(zip(random_states, random_status, data, rng))\n",
    "        #extend& append 差異\n",
    "        \n",
    "    return Output"
   ]
  },
  {
   "cell_type": "code",
   "execution_count": 3,
   "metadata": {},
   "outputs": [
    {
     "output_type": "execute_result",
     "data": {
      "text/plain": [
       "'GA'"
      ]
     },
     "metadata": {},
     "execution_count": 3
    }
   ],
   "source": [
    "# 產生範例的資料集\n",
    "dataset = CreateDataSet(4)\n",
    "df = pd.DataFrame(data=dataset,\n",
    "                  columns=['State', 'Status', 'CustomerCount', 'StatusDate'])\n",
    "# 挑選df中第一列第一欄的資料\n",
    "df.iloc[0, 0]"
   ]
  },
  {
   "cell_type": "code",
   "execution_count": 4,
   "metadata": {},
   "outputs": [
    {
     "output_type": "execute_result",
     "data": {
      "text/plain": [
       "0      GA\n",
       "1      FL\n",
       "2      fl\n",
       "3      FL\n",
       "4      GA\n",
       "       ..\n",
       "831    NY\n",
       "832    TX\n",
       "833    TX\n",
       "834    GA\n",
       "835    FL\n",
       "Name: State, Length: 836, dtype: object"
      ]
     },
     "metadata": {},
     "execution_count": 4
    }
   ],
   "source": [
    "# 挑選df中第一欄的所有資料\n",
    "df.iloc[:, 0]"
   ]
  },
  {
   "cell_type": "code",
   "execution_count": 5,
   "metadata": {},
   "outputs": [
    {
     "output_type": "execute_result",
     "data": {
      "text/plain": [
       "State                             GA\n",
       "Status                             1\n",
       "CustomerCount                    877\n",
       "StatusDate       2009-01-05 00:00:00\n",
       "Name: 0, dtype: object"
      ]
     },
     "metadata": {},
     "execution_count": 5
    }
   ],
   "source": [
    "# 挑選df中第一列的所有資料\n",
    "df.iloc[0]"
   ]
  },
  {
   "source": [
    ".loc與 .iloc 的差異在於.iloc接受的是數值索引，而.loc的方法則接受的是列的索引與欄位名稱。同樣地，使用.loc時後方要加的是中括號而非小括號。"
   ],
   "cell_type": "markdown",
   "metadata": {}
  },
  {
   "cell_type": "code",
   "execution_count": 6,
   "metadata": {},
   "outputs": [
    {
     "output_type": "execute_result",
     "data": {
      "text/plain": [
       "'GA'"
      ]
     },
     "metadata": {},
     "execution_count": 6
    }
   ],
   "source": [
    "# 挑選index為0且欄位為State的資料\n",
    "df.loc[0, 'State']"
   ]
  },
  {
   "cell_type": "code",
   "execution_count": 7,
   "metadata": {},
   "outputs": [
    {
     "output_type": "execute_result",
     "data": {
      "text/plain": [
       "State                             GA\n",
       "Status                             1\n",
       "CustomerCount                    877\n",
       "StatusDate       2009-01-05 00:00:00\n",
       "Name: 0, dtype: object"
      ]
     },
     "metadata": {},
     "execution_count": 7
    }
   ],
   "source": [
    "# 挑選index為0的所有欄位資料\n",
    "df.loc[0, :]"
   ]
  },
  {
   "cell_type": "code",
   "execution_count": 8,
   "metadata": {},
   "outputs": [
    {
     "output_type": "execute_result",
     "data": {
      "text/plain": [
       "State                             GA\n",
       "Status                             1\n",
       "CustomerCount                    877\n",
       "StatusDate       2009-01-05 00:00:00\n",
       "Name: 0, dtype: object"
      ]
     },
     "metadata": {},
     "execution_count": 8
    }
   ],
   "source": [
    "# 挑選index為0的所有欄位資料，與上面的程式碼結果相同\n",
    "df.loc[0]"
   ]
  },
  {
   "cell_type": "code",
   "execution_count": 9,
   "metadata": {},
   "outputs": [
    {
     "output_type": "execute_result",
     "data": {
      "text/plain": [
       "  State  Status  CustomerCount\n",
       "1    FL       1            901\n",
       "5    FL       2            706"
      ],
      "text/html": "<div>\n<style scoped>\n    .dataframe tbody tr th:only-of-type {\n        vertical-align: middle;\n    }\n\n    .dataframe tbody tr th {\n        vertical-align: top;\n    }\n\n    .dataframe thead th {\n        text-align: right;\n    }\n</style>\n<table border=\"1\" class=\"dataframe\">\n  <thead>\n    <tr style=\"text-align: right;\">\n      <th></th>\n      <th>State</th>\n      <th>Status</th>\n      <th>CustomerCount</th>\n    </tr>\n  </thead>\n  <tbody>\n    <tr>\n      <th>1</th>\n      <td>FL</td>\n      <td>1</td>\n      <td>901</td>\n    </tr>\n    <tr>\n      <th>5</th>\n      <td>FL</td>\n      <td>2</td>\n      <td>706</td>\n    </tr>\n  </tbody>\n</table>\n</div>"
     },
     "metadata": {},
     "execution_count": 9
    }
   ],
   "source": [
    "# 挑選index為1或5且從State 到CustomerCount 的資料\n",
    "df.loc[[1, 5], 'State':'CustomerCount']"
   ]
  },
  {
   "source": [
    "- ### 挑選特定欄位之資料\n",
    "\n",
    "在Pandas內還有最後一種使用中括號的方式，功能是取得資料中的特定欄位資料。以下我們試著使用看看。"
   ],
   "cell_type": "markdown",
   "metadata": {}
  },
  {
   "cell_type": "code",
   "execution_count": 10,
   "metadata": {},
   "outputs": [
    {
     "output_type": "execute_result",
     "data": {
      "text/plain": [
       "0      GA\n",
       "1      FL\n",
       "2      fl\n",
       "3      FL\n",
       "4      GA\n",
       "       ..\n",
       "831    NY\n",
       "832    TX\n",
       "833    TX\n",
       "834    GA\n",
       "835    FL\n",
       "Name: State, Length: 836, dtype: object"
      ]
     },
     "metadata": {},
     "execution_count": 10
    }
   ],
   "source": [
    "# 挑選State欄位的資料，將會回傳Series類型的物件\n",
    "df['State']"
   ]
  },
  {
   "cell_type": "code",
   "execution_count": 11,
   "metadata": {},
   "outputs": [
    {
     "output_type": "execute_result",
     "data": {
      "text/plain": [
       "0      GA\n",
       "1      FL\n",
       "2      fl\n",
       "3      FL\n",
       "4      GA\n",
       "       ..\n",
       "831    NY\n",
       "832    TX\n",
       "833    TX\n",
       "834    GA\n",
       "835    FL\n",
       "Name: State, Length: 836, dtype: object"
      ]
     },
     "metadata": {},
     "execution_count": 11
    }
   ],
   "source": [
    "# 此種方式亦同樣可以挑選State欄位資料，並以Series類型回傳\n",
    "df.State"
   ]
  },
  {
   "cell_type": "code",
   "execution_count": 12,
   "metadata": {},
   "outputs": [
    {
     "output_type": "execute_result",
     "data": {
      "text/plain": [
       "    State\n",
       "0      GA\n",
       "1      FL\n",
       "2      fl\n",
       "3      FL\n",
       "4      GA\n",
       "..    ...\n",
       "831    NY\n",
       "832    TX\n",
       "833    TX\n",
       "834    GA\n",
       "835    FL\n",
       "\n",
       "[836 rows x 1 columns]"
      ],
      "text/html": "<div>\n<style scoped>\n    .dataframe tbody tr th:only-of-type {\n        vertical-align: middle;\n    }\n\n    .dataframe tbody tr th {\n        vertical-align: top;\n    }\n\n    .dataframe thead th {\n        text-align: right;\n    }\n</style>\n<table border=\"1\" class=\"dataframe\">\n  <thead>\n    <tr style=\"text-align: right;\">\n      <th></th>\n      <th>State</th>\n    </tr>\n  </thead>\n  <tbody>\n    <tr>\n      <th>0</th>\n      <td>GA</td>\n    </tr>\n    <tr>\n      <th>1</th>\n      <td>FL</td>\n    </tr>\n    <tr>\n      <th>2</th>\n      <td>fl</td>\n    </tr>\n    <tr>\n      <th>3</th>\n      <td>FL</td>\n    </tr>\n    <tr>\n      <th>4</th>\n      <td>GA</td>\n    </tr>\n    <tr>\n      <th>...</th>\n      <td>...</td>\n    </tr>\n    <tr>\n      <th>831</th>\n      <td>NY</td>\n    </tr>\n    <tr>\n      <th>832</th>\n      <td>TX</td>\n    </tr>\n    <tr>\n      <th>833</th>\n      <td>TX</td>\n    </tr>\n    <tr>\n      <th>834</th>\n      <td>GA</td>\n    </tr>\n    <tr>\n      <th>835</th>\n      <td>FL</td>\n    </tr>\n  </tbody>\n</table>\n<p>836 rows × 1 columns</p>\n</div>"
     },
     "metadata": {},
     "execution_count": 12
    }
   ],
   "source": [
    "# 挑選State欄位的資料，但會回傳DataFrame類型的物件\n",
    "df[['State']]"
   ]
  },
  {
   "cell_type": "code",
   "execution_count": 13,
   "metadata": {},
   "outputs": [
    {
     "output_type": "execute_result",
     "data": {
      "text/plain": [
       "(836, 1)"
      ]
     },
     "metadata": {},
     "execution_count": 13
    }
   ],
   "source": [
    "df[['State']].shape"
   ]
  },
  {
   "cell_type": "code",
   "execution_count": 14,
   "metadata": {},
   "outputs": [
    {
     "output_type": "execute_result",
     "data": {
      "text/plain": [
       "    State  Status\n",
       "0      GA       1\n",
       "1      FL       1\n",
       "2      fl       3\n",
       "3      FL       3\n",
       "4      GA       1\n",
       "..    ...     ...\n",
       "831    NY       2\n",
       "832    TX       2\n",
       "833    TX       2\n",
       "834    GA       3\n",
       "835    FL       2\n",
       "\n",
       "[836 rows x 2 columns]"
      ],
      "text/html": "<div>\n<style scoped>\n    .dataframe tbody tr th:only-of-type {\n        vertical-align: middle;\n    }\n\n    .dataframe tbody tr th {\n        vertical-align: top;\n    }\n\n    .dataframe thead th {\n        text-align: right;\n    }\n</style>\n<table border=\"1\" class=\"dataframe\">\n  <thead>\n    <tr style=\"text-align: right;\">\n      <th></th>\n      <th>State</th>\n      <th>Status</th>\n    </tr>\n  </thead>\n  <tbody>\n    <tr>\n      <th>0</th>\n      <td>GA</td>\n      <td>1</td>\n    </tr>\n    <tr>\n      <th>1</th>\n      <td>FL</td>\n      <td>1</td>\n    </tr>\n    <tr>\n      <th>2</th>\n      <td>fl</td>\n      <td>3</td>\n    </tr>\n    <tr>\n      <th>3</th>\n      <td>FL</td>\n      <td>3</td>\n    </tr>\n    <tr>\n      <th>4</th>\n      <td>GA</td>\n      <td>1</td>\n    </tr>\n    <tr>\n      <th>...</th>\n      <td>...</td>\n      <td>...</td>\n    </tr>\n    <tr>\n      <th>831</th>\n      <td>NY</td>\n      <td>2</td>\n    </tr>\n    <tr>\n      <th>832</th>\n      <td>TX</td>\n      <td>2</td>\n    </tr>\n    <tr>\n      <th>833</th>\n      <td>TX</td>\n      <td>2</td>\n    </tr>\n    <tr>\n      <th>834</th>\n      <td>GA</td>\n      <td>3</td>\n    </tr>\n    <tr>\n      <th>835</th>\n      <td>FL</td>\n      <td>2</td>\n    </tr>\n  </tbody>\n</table>\n<p>836 rows × 2 columns</p>\n</div>"
     },
     "metadata": {},
     "execution_count": 14
    }
   ],
   "source": [
    "# 挑選State與 StatusDate兩欄位的資料\n",
    "df[['State', 'Status']]"
   ]
  },
  {
   "cell_type": "code",
   "execution_count": 15,
   "metadata": {},
   "outputs": [
    {
     "output_type": "execute_result",
     "data": {
      "text/plain": [
       "(836, 2)"
      ]
     },
     "metadata": {},
     "execution_count": 15
    }
   ],
   "source": [
    "df[['State', 'Status']].shape"
   ]
  },
  {
   "source": [
    "有沒有一種被上面的各種用法搞糊塗了呢，沒關係，在這邊我們幫大家整理一下這幾種用法的差異"
   ],
   "cell_type": "markdown",
   "metadata": {}
  },
  {
   "source": [
    "用法          |  說明\n",
    "-----------------|-----------\n",
    "df.iloc \\[0, 0\\]    | 選取第一欄位資料\n",
    "df.loc \\[0, 'Age'\\] | 選取列索引為0且欄位為年齡的資料\n",
    "df\\[ 'Age' \\] 或 df.Age | 選取年齡欄位的資料\\(pb.Serries 型態\\)\n",
    "df\\[\\[ 'Age' \\]\\] | 選取年齡欄位的資料\\( pb.DataFrame 型態\\)\n"
   ],
   "cell_type": "markdown",
   "metadata": {}
  }
 ]
}