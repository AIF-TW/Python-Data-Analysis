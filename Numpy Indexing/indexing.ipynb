{
 "metadata": {
  "language_info": {
   "codemirror_mode": {
    "name": "ipython",
    "version": 3
   },
   "file_extension": ".py",
   "mimetype": "text/x-python",
   "name": "python",
   "nbconvert_exporter": "python",
   "pygments_lexer": "ipython3",
   "version": 3
  },
  "orig_nbformat": 2
 },
 "nbformat": 4,
 "nbformat_minor": 2,
 "cells": [
  {
   "source": [
    " ## 取得陣列元素\n",
    "\n",
    "如果我們想要取出一個或多個陣列的元素的話，我們就需要使用陣列內元素的索引去取得元素本身，還記得python原生的列表(list)嗎?陣列元素索引的使用方式與列表其實非常類似，只要在陣列後面以中括號**[   ]**並在裡面填入索引就可以了，差異在於陣列的維度是多維的，因此陣列元素的索引也是多維的。\n",
    "\n",
    "<img src='./image/index_.PNG'/>"
   ],
   "cell_type": "markdown",
   "metadata": {}
  },
  {
   "cell_type": "code",
   "execution_count": null,
   "metadata": {},
   "outputs": [],
   "source": [
    "# 創建一個一維陣列\n",
    "x = np.arange(6)\n",
    "print(x)\n",
    "# array([0, 1, 2, 3, 4, 5])\n",
    "\n",
    "# 取出這個陣列的第三個元素\n",
    "print(x[2])\n",
    "# 2\n",
    "\n",
    "# 取出這個陣列的倒數第二個元素\n",
    "print(x[-2])\n",
    "# 4"
   ]
  },
  {
   "cell_type": "code",
   "execution_count": null,
   "metadata": {},
   "outputs": [],
   "source": [
    "# 創建一個二維陣列\n",
    "x = np.arange(6).reshape(2, 3)\n",
    "print(x)\n",
    "# [[0, 1, 2],\n",
    "#  [3, 4, 5]])\n",
    "\n",
    "# 取出第一個維度索引為0，第二個維度索引為2的元素\n",
    "print(x[0, 2])\n",
    "# 2\n",
    "\n",
    "# 取出第一個維度索引為1，第二個維度索引為-1 (倒數第一)的元素\n",
    "print(x[1, -1])\n",
    "# 5"
   ]
  },
  {
   "source": [
    "- ### 取得陣列片段\n",
    "\n",
    "同樣地，在陣列中要取得某一部份的元素我們同樣可以利用和列表(list)相似的辦法。"
   ],
   "cell_type": "markdown",
   "metadata": {}
  },
  {
   "cell_type": "code",
   "execution_count": null,
   "metadata": {},
   "outputs": [],
   "source": [
    "# 創建一個一維陣列\n",
    "x = np.arange(6)\n",
    "# array([0, 1, 2, 3, 4, 5])"
   ]
  },
  {
   "cell_type": "code",
   "execution_count": null,
   "metadata": {},
   "outputs": [],
   "source": [
    "# 取出這個陣列第二到第六個元素的片段(不含第六個元素)\n",
    "print(x[1:5])\n",
    "# [1, 2, 3, 4]"
   ]
  },
  {
   "cell_type": "code",
   "execution_count": null,
   "metadata": {},
   "outputs": [],
   "source": [
    "# 取出這個陣列從頭開始到第三個元素的片段(不含第三個元素)\n",
    "print(x[:2])\n",
    "# [0, 1]"
   ]
  },
  {
   "cell_type": "code",
   "execution_count": null,
   "metadata": {},
   "outputs": [],
   "source": [
    "# 取出這個陣列第二個到第六個元素的片段(不含第六個元素)，且每隔兩個值取一個元素\n",
    "print(x[1:5:2])\n",
    "# [1, 3]"
   ]
  },
  {
   "cell_type": "code",
   "execution_count": null,
   "metadata": {},
   "outputs": [],
   "source": [
    "# 創建一個二維陣列\n",
    "x = np.arange(6).reshape(2, 3)\n",
    "# [[0, 1, 2],\n",
    "#  [3, 4, 5]])"
   ]
  },
  {
   "cell_type": "code",
   "execution_count": null,
   "metadata": {},
   "outputs": [],
   "source": [
    "# 取出這個陣列第一個維度索引為0，第二個維度從第一個到第三個元素的片段(不含第三個元素)\n",
    "print(x[0, 0:2])\n",
    "#  [0, 1]"
   ]
  },
  {
   "cell_type": "code",
   "execution_count": null,
   "metadata": {},
   "outputs": [],
   "source": [
    "# 取出這個陣列第一個維度的所有索引，第二個維度從第二個到最後一個元素的片段\n",
    "print(x[:, 1:])\n",
    "# [[1, 2],\n",
    "#  [4, 5]]"
   ]
  },
  {
   "cell_type": "code",
   "execution_count": null,
   "metadata": {},
   "outputs": [],
   "source": [
    "# 取出這個陣列第一個維度從頭到尾且每隔一個值取一個元素，第二個維度從頭到尾且每隔兩個值取一個元素的片段\n",
    "print(x[::1, ::2])\n",
    "# [[0, 2],\n",
    "#  [3, 5]]"
   ]
  }
 ]
}