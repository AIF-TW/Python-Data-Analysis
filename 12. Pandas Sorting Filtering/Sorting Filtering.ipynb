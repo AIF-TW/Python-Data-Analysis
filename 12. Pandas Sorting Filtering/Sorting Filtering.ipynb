{
 "metadata": {
  "language_info": {
   "codemirror_mode": {
    "name": "ipython",
    "version": 3
   },
   "file_extension": ".py",
   "mimetype": "text/x-python",
   "name": "python",
   "nbconvert_exporter": "python",
   "pygments_lexer": "ipython3",
   "version": "3.8.3-final"
  },
  "orig_nbformat": 2,
  "kernelspec": {
   "name": "python3",
   "display_name": "Python 3.8.3 64-bit (conda)",
   "metadata": {
    "interpreter": {
     "hash": "c398e921e193d2c708fce0373310d5247a1133597c4f96c40d97c746ab00282b"
    }
   }
  }
 },
 "nbformat": 4,
 "nbformat_minor": 2,
 "cells": [
  {
   "source": [
    "## 篩選資料\n",
    "\n",
    "雖然上述的方法可以快速地幫我們挑選資料，但更多時候我們想要篩選的是符合特定規則的資料，例如在成績紀錄內只篩選出期中考不及格的同學們。遇到這種狀況的時候我們可以使用和numpy很類似的用法。"
   ],
   "cell_type": "markdown",
   "metadata": {}
  },
  {
   "cell_type": "code",
   "execution_count": 1,
   "metadata": {},
   "outputs": [],
   "source": [
    "import pandas as pd\n",
    "import numpy as np"
   ]
  },
  {
   "cell_type": "code",
   "execution_count": 2,
   "metadata": {},
   "outputs": [],
   "source": [
    "# set seed\n",
    "np.random.seed(111)\n",
    "# Function to generate test data\n",
    "def CreateDataSet(Number=1):\n",
    "    Output = []\n",
    "    for i in range(Number):\n",
    "        # Create a weekly (mondays) date range\n",
    "        rng = pd.date_range(start='1/1/2009', end='12/31/2012', freq='W-MON') #random number generator\n",
    "        \n",
    "        # Create random data\n",
    "        data = np.random.randint(low=25, high=1000, size=len(rng))\n",
    "        \n",
    "        # Status pool\n",
    "        status = [1,2,3]\n",
    "        \n",
    "        # Make a random list of statuses\n",
    "        random_status = [status[np.random.randint(low=0, high=len(status))] for i in range(len(rng))]\n",
    "        \n",
    "        # State pool\n",
    "        states = ['GA','FL','fl','NY','NJ','TX']\n",
    "        \n",
    "        # Make a random list of states \n",
    "        random_states = [states[np.random.randint(low=0, high=len(states))] for i in range(len(rng))]\n",
    "    \n",
    "        Output.extend(zip(random_states, random_status, data, rng))\n",
    "        #extend& append 差異\n",
    "        \n",
    "    return Output"
   ]
  },
  {
   "cell_type": "code",
   "execution_count": 3,
   "metadata": {},
   "outputs": [],
   "source": [
    "# 產生範例的資料集\n",
    "dataset = CreateDataSet(4)\n",
    "df = pd.DataFrame(data=dataset,\n",
    "                  columns=['State', 'Status', 'CustomerCount', 'StatusDate'])"
   ]
  },
  {
   "cell_type": "code",
   "execution_count": 4,
   "metadata": {},
   "outputs": [
    {
     "output_type": "stream",
     "name": "stdout",
     "text": [
      "0    False\n1     True\n2    False\n3     True\n4    False\nName: State, dtype: bool\n"
     ]
    }
   ],
   "source": [
    "# 設定篩選的條件，在此判斷是否State欄位的數值為FL\n",
    "condition = (df.State == 'FL')\n",
    "\n",
    "# 印出篩選條件看看，會發現這是一連串布林值\n",
    "print(condition.head())"
   ]
  },
  {
   "cell_type": "code",
   "execution_count": 5,
   "metadata": {},
   "outputs": [
    {
     "output_type": "execute_result",
     "data": {
      "text/plain": [
       "   State  Status  CustomerCount StatusDate\n",
       "1     FL       1            901 2009-01-12\n",
       "3     FL       3            111 2009-01-26\n",
       "5     FL       2            706 2009-02-09\n",
       "8     FL       3            833 2009-03-02\n",
       "22    FL       2            737 2009-06-08\n",
       "28    FL       1            710 2009-07-20\n",
       "35    FL       3            587 2009-09-07\n",
       "42    FL       3            930 2009-10-26\n",
       "43    FL       3            195 2009-11-02\n",
       "49    FL       3            510 2009-12-14"
      ],
      "text/html": "<div>\n<style scoped>\n    .dataframe tbody tr th:only-of-type {\n        vertical-align: middle;\n    }\n\n    .dataframe tbody tr th {\n        vertical-align: top;\n    }\n\n    .dataframe thead th {\n        text-align: right;\n    }\n</style>\n<table border=\"1\" class=\"dataframe\">\n  <thead>\n    <tr style=\"text-align: right;\">\n      <th></th>\n      <th>State</th>\n      <th>Status</th>\n      <th>CustomerCount</th>\n      <th>StatusDate</th>\n    </tr>\n  </thead>\n  <tbody>\n    <tr>\n      <th>1</th>\n      <td>FL</td>\n      <td>1</td>\n      <td>901</td>\n      <td>2009-01-12</td>\n    </tr>\n    <tr>\n      <th>3</th>\n      <td>FL</td>\n      <td>3</td>\n      <td>111</td>\n      <td>2009-01-26</td>\n    </tr>\n    <tr>\n      <th>5</th>\n      <td>FL</td>\n      <td>2</td>\n      <td>706</td>\n      <td>2009-02-09</td>\n    </tr>\n    <tr>\n      <th>8</th>\n      <td>FL</td>\n      <td>3</td>\n      <td>833</td>\n      <td>2009-03-02</td>\n    </tr>\n    <tr>\n      <th>22</th>\n      <td>FL</td>\n      <td>2</td>\n      <td>737</td>\n      <td>2009-06-08</td>\n    </tr>\n    <tr>\n      <th>28</th>\n      <td>FL</td>\n      <td>1</td>\n      <td>710</td>\n      <td>2009-07-20</td>\n    </tr>\n    <tr>\n      <th>35</th>\n      <td>FL</td>\n      <td>3</td>\n      <td>587</td>\n      <td>2009-09-07</td>\n    </tr>\n    <tr>\n      <th>42</th>\n      <td>FL</td>\n      <td>3</td>\n      <td>930</td>\n      <td>2009-10-26</td>\n    </tr>\n    <tr>\n      <th>43</th>\n      <td>FL</td>\n      <td>3</td>\n      <td>195</td>\n      <td>2009-11-02</td>\n    </tr>\n    <tr>\n      <th>49</th>\n      <td>FL</td>\n      <td>3</td>\n      <td>510</td>\n      <td>2009-12-14</td>\n    </tr>\n  </tbody>\n</table>\n</div>"
     },
     "metadata": {},
     "execution_count": 5
    }
   ],
   "source": [
    "# 將condition放入loc中篩選判斷值為True的資料，且只呈現前十筆\n",
    "df.loc[condition].head(n=10)"
   ]
  },
  {
   "cell_type": "code",
   "execution_count": 6,
   "metadata": {},
   "outputs": [
    {
     "output_type": "execute_result",
     "data": {
      "text/plain": [
       "    State  Status  CustomerCount StatusDate\n",
       "3      FL       3            111 2009-01-26\n",
       "8      FL       3            833 2009-03-02\n",
       "35     FL       3            587 2009-09-07\n",
       "42     FL       3            930 2009-10-26\n",
       "43     FL       3            195 2009-11-02\n",
       "49     FL       3            510 2009-12-14\n",
       "150    FL       3            847 2011-11-21\n",
       "160    FL       3            883 2012-01-30\n",
       "166    FL       3            109 2012-03-12\n",
       "204    FL       3            222 2012-12-03"
      ],
      "text/html": "<div>\n<style scoped>\n    .dataframe tbody tr th:only-of-type {\n        vertical-align: middle;\n    }\n\n    .dataframe tbody tr th {\n        vertical-align: top;\n    }\n\n    .dataframe thead th {\n        text-align: right;\n    }\n</style>\n<table border=\"1\" class=\"dataframe\">\n  <thead>\n    <tr style=\"text-align: right;\">\n      <th></th>\n      <th>State</th>\n      <th>Status</th>\n      <th>CustomerCount</th>\n      <th>StatusDate</th>\n    </tr>\n  </thead>\n  <tbody>\n    <tr>\n      <th>3</th>\n      <td>FL</td>\n      <td>3</td>\n      <td>111</td>\n      <td>2009-01-26</td>\n    </tr>\n    <tr>\n      <th>8</th>\n      <td>FL</td>\n      <td>3</td>\n      <td>833</td>\n      <td>2009-03-02</td>\n    </tr>\n    <tr>\n      <th>35</th>\n      <td>FL</td>\n      <td>3</td>\n      <td>587</td>\n      <td>2009-09-07</td>\n    </tr>\n    <tr>\n      <th>42</th>\n      <td>FL</td>\n      <td>3</td>\n      <td>930</td>\n      <td>2009-10-26</td>\n    </tr>\n    <tr>\n      <th>43</th>\n      <td>FL</td>\n      <td>3</td>\n      <td>195</td>\n      <td>2009-11-02</td>\n    </tr>\n    <tr>\n      <th>49</th>\n      <td>FL</td>\n      <td>3</td>\n      <td>510</td>\n      <td>2009-12-14</td>\n    </tr>\n    <tr>\n      <th>150</th>\n      <td>FL</td>\n      <td>3</td>\n      <td>847</td>\n      <td>2011-11-21</td>\n    </tr>\n    <tr>\n      <th>160</th>\n      <td>FL</td>\n      <td>3</td>\n      <td>883</td>\n      <td>2012-01-30</td>\n    </tr>\n    <tr>\n      <th>166</th>\n      <td>FL</td>\n      <td>3</td>\n      <td>109</td>\n      <td>2012-03-12</td>\n    </tr>\n    <tr>\n      <th>204</th>\n      <td>FL</td>\n      <td>3</td>\n      <td>222</td>\n      <td>2012-12-03</td>\n    </tr>\n  </tbody>\n</table>\n</div>"
     },
     "metadata": {},
     "execution_count": 6
    }
   ],
   "source": [
    "df.loc[(df.State == 'FL') & (df['Status'] == 3)].head(n=10)"
   ]
  },
  {
   "cell_type": "code",
   "execution_count": 7,
   "metadata": {},
   "outputs": [
    {
     "output_type": "execute_result",
     "data": {
      "text/plain": [
       "   State  Status  CustomerCount StatusDate\n",
       "0     GA       1            877 2009-01-05\n",
       "1     FL       1            901 2009-01-12\n",
       "4     GA       1            300 2009-02-02\n",
       "5     FL       2            706 2009-02-09\n",
       "7     fl       2            143 2009-02-23\n",
       "9     NY       1            992 2009-03-09\n",
       "10    fl       2            978 2009-03-16\n",
       "11    TX       2             32 2009-03-23\n",
       "12    GA       2            293 2009-03-30\n",
       "13    fl       1            291 2009-04-06"
      ],
      "text/html": "<div>\n<style scoped>\n    .dataframe tbody tr th:only-of-type {\n        vertical-align: middle;\n    }\n\n    .dataframe tbody tr th {\n        vertical-align: top;\n    }\n\n    .dataframe thead th {\n        text-align: right;\n    }\n</style>\n<table border=\"1\" class=\"dataframe\">\n  <thead>\n    <tr style=\"text-align: right;\">\n      <th></th>\n      <th>State</th>\n      <th>Status</th>\n      <th>CustomerCount</th>\n      <th>StatusDate</th>\n    </tr>\n  </thead>\n  <tbody>\n    <tr>\n      <th>0</th>\n      <td>GA</td>\n      <td>1</td>\n      <td>877</td>\n      <td>2009-01-05</td>\n    </tr>\n    <tr>\n      <th>1</th>\n      <td>FL</td>\n      <td>1</td>\n      <td>901</td>\n      <td>2009-01-12</td>\n    </tr>\n    <tr>\n      <th>4</th>\n      <td>GA</td>\n      <td>1</td>\n      <td>300</td>\n      <td>2009-02-02</td>\n    </tr>\n    <tr>\n      <th>5</th>\n      <td>FL</td>\n      <td>2</td>\n      <td>706</td>\n      <td>2009-02-09</td>\n    </tr>\n    <tr>\n      <th>7</th>\n      <td>fl</td>\n      <td>2</td>\n      <td>143</td>\n      <td>2009-02-23</td>\n    </tr>\n    <tr>\n      <th>9</th>\n      <td>NY</td>\n      <td>1</td>\n      <td>992</td>\n      <td>2009-03-09</td>\n    </tr>\n    <tr>\n      <th>10</th>\n      <td>fl</td>\n      <td>2</td>\n      <td>978</td>\n      <td>2009-03-16</td>\n    </tr>\n    <tr>\n      <th>11</th>\n      <td>TX</td>\n      <td>2</td>\n      <td>32</td>\n      <td>2009-03-23</td>\n    </tr>\n    <tr>\n      <th>12</th>\n      <td>GA</td>\n      <td>2</td>\n      <td>293</td>\n      <td>2009-03-30</td>\n    </tr>\n    <tr>\n      <th>13</th>\n      <td>fl</td>\n      <td>1</td>\n      <td>291</td>\n      <td>2009-04-06</td>\n    </tr>\n  </tbody>\n</table>\n</div>"
     },
     "metadata": {},
     "execution_count": 7
    }
   ],
   "source": [
    "df.loc[df.Status.isin([1, 2])].head(n=10)"
   ]
  },
  {
   "cell_type": "code",
   "execution_count": 8,
   "metadata": {},
   "outputs": [
    {
     "output_type": "stream",
     "name": "stdout",
     "text": [
      "0    False\n1     True\n2    False\n3     True\n4    False\nName: State, dtype: bool\n"
     ]
    },
    {
     "output_type": "execute_result",
     "data": {
      "text/plain": [
       "   State  Status  CustomerCount StatusDate\n",
       "0     GA       1            877 2009-01-05\n",
       "1     FL       1            901 2009-01-12\n",
       "4     GA       1            300 2009-02-02\n",
       "5     FL       2            706 2009-02-09\n",
       "7     fl       2            143 2009-02-23\n",
       "9     NY       1            992 2009-03-09\n",
       "10    fl       2            978 2009-03-16\n",
       "11    TX       2             32 2009-03-23\n",
       "12    GA       2            293 2009-03-30\n",
       "13    fl       1            291 2009-04-06"
      ],
      "text/html": "<div>\n<style scoped>\n    .dataframe tbody tr th:only-of-type {\n        vertical-align: middle;\n    }\n\n    .dataframe tbody tr th {\n        vertical-align: top;\n    }\n\n    .dataframe thead th {\n        text-align: right;\n    }\n</style>\n<table border=\"1\" class=\"dataframe\">\n  <thead>\n    <tr style=\"text-align: right;\">\n      <th></th>\n      <th>State</th>\n      <th>Status</th>\n      <th>CustomerCount</th>\n      <th>StatusDate</th>\n    </tr>\n  </thead>\n  <tbody>\n    <tr>\n      <th>0</th>\n      <td>GA</td>\n      <td>1</td>\n      <td>877</td>\n      <td>2009-01-05</td>\n    </tr>\n    <tr>\n      <th>1</th>\n      <td>FL</td>\n      <td>1</td>\n      <td>901</td>\n      <td>2009-01-12</td>\n    </tr>\n    <tr>\n      <th>4</th>\n      <td>GA</td>\n      <td>1</td>\n      <td>300</td>\n      <td>2009-02-02</td>\n    </tr>\n    <tr>\n      <th>5</th>\n      <td>FL</td>\n      <td>2</td>\n      <td>706</td>\n      <td>2009-02-09</td>\n    </tr>\n    <tr>\n      <th>7</th>\n      <td>fl</td>\n      <td>2</td>\n      <td>143</td>\n      <td>2009-02-23</td>\n    </tr>\n    <tr>\n      <th>9</th>\n      <td>NY</td>\n      <td>1</td>\n      <td>992</td>\n      <td>2009-03-09</td>\n    </tr>\n    <tr>\n      <th>10</th>\n      <td>fl</td>\n      <td>2</td>\n      <td>978</td>\n      <td>2009-03-16</td>\n    </tr>\n    <tr>\n      <th>11</th>\n      <td>TX</td>\n      <td>2</td>\n      <td>32</td>\n      <td>2009-03-23</td>\n    </tr>\n    <tr>\n      <th>12</th>\n      <td>GA</td>\n      <td>2</td>\n      <td>293</td>\n      <td>2009-03-30</td>\n    </tr>\n    <tr>\n      <th>13</th>\n      <td>fl</td>\n      <td>1</td>\n      <td>291</td>\n      <td>2009-04-06</td>\n    </tr>\n  </tbody>\n</table>\n</div>"
     },
     "metadata": {},
     "execution_count": 8
    }
   ],
   "source": [
    "# 設定篩選的條件，在此判斷是否State欄位的數值為FL\n",
    "condition = (df.State == 'FL')\n",
    "\n",
    "# 印出篩選條件看看，會發現這是一連串布林值\n",
    "print(condition.head())\n",
    "\n",
    "# 將condition放入loc中篩選判斷值為True的資料，且只呈現前十筆\n",
    "df.loc[condition].head(n=10)\n",
    "\n",
    "# 我們也可以做比較複雜的條件判斷並一次將篩選條件寫在內\n",
    "# 同時挑選State為FL且Status為3的資料，並只呈現前十筆\n",
    "df.loc[(df.State == 'FL') & (df['Status'] == 3)].head(n=10)\n",
    "\n",
    "# 如果需要在某個欄位內挑選符合多個可能性的數值，可以使用.isin()這個方法\n",
    "# 挑選Status為1或2的資料，並只呈現前十筆\n",
    "df.loc[df.Status.isin([1, 2])].head(n=10)"
   ]
  },
  {
   "source": [
    "## 對欄位進行排序\n",
    "\n",
    "在Excel中大家最常用到的功能之一就是排序了，在pandas中我們也可以輕易地做到這件事情。"
   ],
   "cell_type": "markdown",
   "metadata": {}
  },
  {
   "cell_type": "code",
   "execution_count": 9,
   "metadata": {},
   "outputs": [
    {
     "output_type": "execute_result",
     "data": {
      "text/plain": [
       "    State  Status  CustomerCount StatusDate\n",
       "815    NJ       3             26 2012-08-13\n",
       "539    NY       1             27 2011-05-02\n",
       "259    NY       2             28 2009-12-21\n",
       "600    TX       2             29 2012-07-02\n",
       "488    FL       1             30 2010-05-10\n",
       "271    FL       1             32 2010-03-15\n",
       "11     TX       2             32 2009-03-23\n",
       "148    fl       1             33 2011-11-07\n",
       "221    NY       2             35 2009-03-30\n",
       "461    fl       1             36 2009-11-02"
      ],
      "text/html": "<div>\n<style scoped>\n    .dataframe tbody tr th:only-of-type {\n        vertical-align: middle;\n    }\n\n    .dataframe tbody tr th {\n        vertical-align: top;\n    }\n\n    .dataframe thead th {\n        text-align: right;\n    }\n</style>\n<table border=\"1\" class=\"dataframe\">\n  <thead>\n    <tr style=\"text-align: right;\">\n      <th></th>\n      <th>State</th>\n      <th>Status</th>\n      <th>CustomerCount</th>\n      <th>StatusDate</th>\n    </tr>\n  </thead>\n  <tbody>\n    <tr>\n      <th>815</th>\n      <td>NJ</td>\n      <td>3</td>\n      <td>26</td>\n      <td>2012-08-13</td>\n    </tr>\n    <tr>\n      <th>539</th>\n      <td>NY</td>\n      <td>1</td>\n      <td>27</td>\n      <td>2011-05-02</td>\n    </tr>\n    <tr>\n      <th>259</th>\n      <td>NY</td>\n      <td>2</td>\n      <td>28</td>\n      <td>2009-12-21</td>\n    </tr>\n    <tr>\n      <th>600</th>\n      <td>TX</td>\n      <td>2</td>\n      <td>29</td>\n      <td>2012-07-02</td>\n    </tr>\n    <tr>\n      <th>488</th>\n      <td>FL</td>\n      <td>1</td>\n      <td>30</td>\n      <td>2010-05-10</td>\n    </tr>\n    <tr>\n      <th>271</th>\n      <td>FL</td>\n      <td>1</td>\n      <td>32</td>\n      <td>2010-03-15</td>\n    </tr>\n    <tr>\n      <th>11</th>\n      <td>TX</td>\n      <td>2</td>\n      <td>32</td>\n      <td>2009-03-23</td>\n    </tr>\n    <tr>\n      <th>148</th>\n      <td>fl</td>\n      <td>1</td>\n      <td>33</td>\n      <td>2011-11-07</td>\n    </tr>\n    <tr>\n      <th>221</th>\n      <td>NY</td>\n      <td>2</td>\n      <td>35</td>\n      <td>2009-03-30</td>\n    </tr>\n    <tr>\n      <th>461</th>\n      <td>fl</td>\n      <td>1</td>\n      <td>36</td>\n      <td>2009-11-02</td>\n    </tr>\n  </tbody>\n</table>\n</div>"
     },
     "metadata": {},
     "execution_count": 9
    }
   ],
   "source": [
    "df.sort_values(by='CustomerCount').head(10)"
   ]
  },
  {
   "cell_type": "code",
   "execution_count": 10,
   "metadata": {},
   "outputs": [
    {
     "output_type": "execute_result",
     "data": {
      "text/plain": [
       "    State  Status  CustomerCount StatusDate\n",
       "418    FL       3            638 2009-01-05\n",
       "252    NJ       3            752 2009-11-02\n",
       "588    NY       3            725 2012-04-09\n",
       "261    NY       3            277 2010-01-04\n",
       "260    FL       3            788 2009-12-28\n",
       "..    ...     ...            ...        ...\n",
       "251    GA       1            844 2009-10-26\n",
       "591    fl       1            623 2012-04-30\n",
       "256    GA       1            458 2009-11-30\n",
       "262    fl       1            419 2010-01-11\n",
       "0      GA       1            877 2009-01-05\n",
       "\n",
       "[836 rows x 4 columns]"
      ],
      "text/html": "<div>\n<style scoped>\n    .dataframe tbody tr th:only-of-type {\n        vertical-align: middle;\n    }\n\n    .dataframe tbody tr th {\n        vertical-align: top;\n    }\n\n    .dataframe thead th {\n        text-align: right;\n    }\n</style>\n<table border=\"1\" class=\"dataframe\">\n  <thead>\n    <tr style=\"text-align: right;\">\n      <th></th>\n      <th>State</th>\n      <th>Status</th>\n      <th>CustomerCount</th>\n      <th>StatusDate</th>\n    </tr>\n  </thead>\n  <tbody>\n    <tr>\n      <th>418</th>\n      <td>FL</td>\n      <td>3</td>\n      <td>638</td>\n      <td>2009-01-05</td>\n    </tr>\n    <tr>\n      <th>252</th>\n      <td>NJ</td>\n      <td>3</td>\n      <td>752</td>\n      <td>2009-11-02</td>\n    </tr>\n    <tr>\n      <th>588</th>\n      <td>NY</td>\n      <td>3</td>\n      <td>725</td>\n      <td>2012-04-09</td>\n    </tr>\n    <tr>\n      <th>261</th>\n      <td>NY</td>\n      <td>3</td>\n      <td>277</td>\n      <td>2010-01-04</td>\n    </tr>\n    <tr>\n      <th>260</th>\n      <td>FL</td>\n      <td>3</td>\n      <td>788</td>\n      <td>2009-12-28</td>\n    </tr>\n    <tr>\n      <th>...</th>\n      <td>...</td>\n      <td>...</td>\n      <td>...</td>\n      <td>...</td>\n    </tr>\n    <tr>\n      <th>251</th>\n      <td>GA</td>\n      <td>1</td>\n      <td>844</td>\n      <td>2009-10-26</td>\n    </tr>\n    <tr>\n      <th>591</th>\n      <td>fl</td>\n      <td>1</td>\n      <td>623</td>\n      <td>2012-04-30</td>\n    </tr>\n    <tr>\n      <th>256</th>\n      <td>GA</td>\n      <td>1</td>\n      <td>458</td>\n      <td>2009-11-30</td>\n    </tr>\n    <tr>\n      <th>262</th>\n      <td>fl</td>\n      <td>1</td>\n      <td>419</td>\n      <td>2010-01-11</td>\n    </tr>\n    <tr>\n      <th>0</th>\n      <td>GA</td>\n      <td>1</td>\n      <td>877</td>\n      <td>2009-01-05</td>\n    </tr>\n  </tbody>\n</table>\n<p>836 rows × 4 columns</p>\n</div>"
     },
     "metadata": {},
     "execution_count": 10
    }
   ],
   "source": [
    "df.sort_values('Status', ascending=False)"
   ]
  },
  {
   "cell_type": "code",
   "execution_count": 11,
   "metadata": {},
   "outputs": [
    {
     "output_type": "execute_result",
     "data": {
      "text/plain": [
       "    State  Status  CustomerCount StatusDate\n",
       "488    FL       1             30 2010-05-10\n",
       "271    FL       1             32 2010-03-15\n",
       "332    FL       1             45 2011-05-16\n",
       "818    FL       3             46 2012-09-03\n",
       "587    FL       3             47 2012-04-02\n",
       "467    FL       2             48 2009-12-14\n",
       "727    FL       2             51 2010-12-06\n",
       "730    FL       3             51 2010-12-27\n",
       "278    FL       3             53 2010-05-03\n",
       "494    FL       3             59 2010-06-21"
      ],
      "text/html": "<div>\n<style scoped>\n    .dataframe tbody tr th:only-of-type {\n        vertical-align: middle;\n    }\n\n    .dataframe tbody tr th {\n        vertical-align: top;\n    }\n\n    .dataframe thead th {\n        text-align: right;\n    }\n</style>\n<table border=\"1\" class=\"dataframe\">\n  <thead>\n    <tr style=\"text-align: right;\">\n      <th></th>\n      <th>State</th>\n      <th>Status</th>\n      <th>CustomerCount</th>\n      <th>StatusDate</th>\n    </tr>\n  </thead>\n  <tbody>\n    <tr>\n      <th>488</th>\n      <td>FL</td>\n      <td>1</td>\n      <td>30</td>\n      <td>2010-05-10</td>\n    </tr>\n    <tr>\n      <th>271</th>\n      <td>FL</td>\n      <td>1</td>\n      <td>32</td>\n      <td>2010-03-15</td>\n    </tr>\n    <tr>\n      <th>332</th>\n      <td>FL</td>\n      <td>1</td>\n      <td>45</td>\n      <td>2011-05-16</td>\n    </tr>\n    <tr>\n      <th>818</th>\n      <td>FL</td>\n      <td>3</td>\n      <td>46</td>\n      <td>2012-09-03</td>\n    </tr>\n    <tr>\n      <th>587</th>\n      <td>FL</td>\n      <td>3</td>\n      <td>47</td>\n      <td>2012-04-02</td>\n    </tr>\n    <tr>\n      <th>467</th>\n      <td>FL</td>\n      <td>2</td>\n      <td>48</td>\n      <td>2009-12-14</td>\n    </tr>\n    <tr>\n      <th>727</th>\n      <td>FL</td>\n      <td>2</td>\n      <td>51</td>\n      <td>2010-12-06</td>\n    </tr>\n    <tr>\n      <th>730</th>\n      <td>FL</td>\n      <td>3</td>\n      <td>51</td>\n      <td>2010-12-27</td>\n    </tr>\n    <tr>\n      <th>278</th>\n      <td>FL</td>\n      <td>3</td>\n      <td>53</td>\n      <td>2010-05-03</td>\n    </tr>\n    <tr>\n      <th>494</th>\n      <td>FL</td>\n      <td>3</td>\n      <td>59</td>\n      <td>2010-06-21</td>\n    </tr>\n  </tbody>\n</table>\n</div>"
     },
     "metadata": {},
     "execution_count": 11
    }
   ],
   "source": [
    "df.sort_values(by=['State', 'CustomerCount']).head(10)"
   ]
  },
  {
   "cell_type": "code",
   "execution_count": 12,
   "metadata": {},
   "outputs": [
    {
     "output_type": "execute_result",
     "data": {
      "text/plain": [
       "    State  Status  CustomerCount StatusDate\n",
       "488    FL       1             30 2010-05-10\n",
       "271    FL       1             32 2010-03-15\n",
       "332    FL       1             45 2011-05-16\n",
       "818    FL       3             46 2012-09-03\n",
       "587    FL       3             47 2012-04-02\n",
       "467    FL       2             48 2009-12-14\n",
       "727    FL       2             51 2010-12-06\n",
       "730    FL       3             51 2010-12-27\n",
       "278    FL       3             53 2010-05-03\n",
       "494    FL       3             59 2010-06-21"
      ],
      "text/html": "<div>\n<style scoped>\n    .dataframe tbody tr th:only-of-type {\n        vertical-align: middle;\n    }\n\n    .dataframe tbody tr th {\n        vertical-align: top;\n    }\n\n    .dataframe thead th {\n        text-align: right;\n    }\n</style>\n<table border=\"1\" class=\"dataframe\">\n  <thead>\n    <tr style=\"text-align: right;\">\n      <th></th>\n      <th>State</th>\n      <th>Status</th>\n      <th>CustomerCount</th>\n      <th>StatusDate</th>\n    </tr>\n  </thead>\n  <tbody>\n    <tr>\n      <th>488</th>\n      <td>FL</td>\n      <td>1</td>\n      <td>30</td>\n      <td>2010-05-10</td>\n    </tr>\n    <tr>\n      <th>271</th>\n      <td>FL</td>\n      <td>1</td>\n      <td>32</td>\n      <td>2010-03-15</td>\n    </tr>\n    <tr>\n      <th>332</th>\n      <td>FL</td>\n      <td>1</td>\n      <td>45</td>\n      <td>2011-05-16</td>\n    </tr>\n    <tr>\n      <th>818</th>\n      <td>FL</td>\n      <td>3</td>\n      <td>46</td>\n      <td>2012-09-03</td>\n    </tr>\n    <tr>\n      <th>587</th>\n      <td>FL</td>\n      <td>3</td>\n      <td>47</td>\n      <td>2012-04-02</td>\n    </tr>\n    <tr>\n      <th>467</th>\n      <td>FL</td>\n      <td>2</td>\n      <td>48</td>\n      <td>2009-12-14</td>\n    </tr>\n    <tr>\n      <th>727</th>\n      <td>FL</td>\n      <td>2</td>\n      <td>51</td>\n      <td>2010-12-06</td>\n    </tr>\n    <tr>\n      <th>730</th>\n      <td>FL</td>\n      <td>3</td>\n      <td>51</td>\n      <td>2010-12-27</td>\n    </tr>\n    <tr>\n      <th>278</th>\n      <td>FL</td>\n      <td>3</td>\n      <td>53</td>\n      <td>2010-05-03</td>\n    </tr>\n    <tr>\n      <th>494</th>\n      <td>FL</td>\n      <td>3</td>\n      <td>59</td>\n      <td>2010-06-21</td>\n    </tr>\n  </tbody>\n</table>\n</div>"
     },
     "metadata": {},
     "execution_count": 12
    }
   ],
   "source": [
    "# 以CustomerCount欄位的數值做排序，並呈現前10筆資料。預設會由小到大做排序\n",
    "df.sort_values(by='CustomerCount').head(10)\n",
    "\n",
    "# 依照Status欄位並且以降冪方式排序\n",
    "df.sort_values('Status', ascending=False)\n",
    "\n",
    "# 依照State與CustomerCount排序，並呈現前10筆資料\n",
    "df.sort_values(by=['State', 'CustomerCount']).head(10)"
   ]
  },
  {
   "source": [
    "- ### 增加與刪除欄位\n",
    "\n",
    "我們可以使用下面的方法在一個dataframe中增加或減少欄位。"
   ],
   "cell_type": "markdown",
   "metadata": {}
  },
  {
   "cell_type": "code",
   "execution_count": 13,
   "metadata": {},
   "outputs": [
    {
     "output_type": "execute_result",
     "data": {
      "text/plain": [
       "    name\n",
       "0   Abby\n",
       "1    Bob\n",
       "2  Chris"
      ],
      "text/html": "<div>\n<style scoped>\n    .dataframe tbody tr th:only-of-type {\n        vertical-align: middle;\n    }\n\n    .dataframe tbody tr th {\n        vertical-align: top;\n    }\n\n    .dataframe thead th {\n        text-align: right;\n    }\n</style>\n<table border=\"1\" class=\"dataframe\">\n  <thead>\n    <tr style=\"text-align: right;\">\n      <th></th>\n      <th>name</th>\n    </tr>\n  </thead>\n  <tbody>\n    <tr>\n      <th>0</th>\n      <td>Abby</td>\n    </tr>\n    <tr>\n      <th>1</th>\n      <td>Bob</td>\n    </tr>\n    <tr>\n      <th>2</th>\n      <td>Chris</td>\n    </tr>\n  </tbody>\n</table>\n</div>"
     },
     "metadata": {},
     "execution_count": 13
    }
   ],
   "source": [
    "df = pd.DataFrame(data={'name':['Abby', 'Bob', 'Chris']})\n",
    "df"
   ]
  },
  {
   "cell_type": "code",
   "execution_count": 14,
   "metadata": {},
   "outputs": [
    {
     "output_type": "execute_result",
     "data": {
      "text/plain": [
       "    name  Age  greater_than_18\n",
       "0   Abby   20             True\n",
       "1    Bob   15            False\n",
       "2  Chris   28             True"
      ],
      "text/html": "<div>\n<style scoped>\n    .dataframe tbody tr th:only-of-type {\n        vertical-align: middle;\n    }\n\n    .dataframe tbody tr th {\n        vertical-align: top;\n    }\n\n    .dataframe thead th {\n        text-align: right;\n    }\n</style>\n<table border=\"1\" class=\"dataframe\">\n  <thead>\n    <tr style=\"text-align: right;\">\n      <th></th>\n      <th>name</th>\n      <th>Age</th>\n      <th>greater_than_18</th>\n    </tr>\n  </thead>\n  <tbody>\n    <tr>\n      <th>0</th>\n      <td>Abby</td>\n      <td>20</td>\n      <td>True</td>\n    </tr>\n    <tr>\n      <th>1</th>\n      <td>Bob</td>\n      <td>15</td>\n      <td>False</td>\n    </tr>\n    <tr>\n      <th>2</th>\n      <td>Chris</td>\n      <td>28</td>\n      <td>True</td>\n    </tr>\n  </tbody>\n</table>\n</div>"
     },
     "metadata": {},
     "execution_count": 14
    }
   ],
   "source": [
    "# 建立一個dataframe，裡面只有name這個欄位\n",
    "df = pd.DataFrame(data={'name':['Abby', 'Bob', 'Chris']})\n",
    "\n",
    "# 多建一個Age欄位並填入資料\n",
    "df['Age'] = [20, 15, 28]\n",
    "\n",
    "# 在建立一個欄位greater_than_18判斷是否年齡大於18歲\n",
    "df['greater_than_18'] = df['Age'] > 18\n",
    "\n",
    "# 將df印出看看結果是甚麼\n",
    "df"
   ]
  },
  {
   "cell_type": "code",
   "execution_count": 15,
   "metadata": {},
   "outputs": [
    {
     "output_type": "execute_result",
     "data": {
      "text/plain": [
       "    name  Age\n",
       "0   Abby   20\n",
       "1    Bob   15\n",
       "2  Chris   28"
      ],
      "text/html": "<div>\n<style scoped>\n    .dataframe tbody tr th:only-of-type {\n        vertical-align: middle;\n    }\n\n    .dataframe tbody tr th {\n        vertical-align: top;\n    }\n\n    .dataframe thead th {\n        text-align: right;\n    }\n</style>\n<table border=\"1\" class=\"dataframe\">\n  <thead>\n    <tr style=\"text-align: right;\">\n      <th></th>\n      <th>name</th>\n      <th>Age</th>\n    </tr>\n  </thead>\n  <tbody>\n    <tr>\n      <th>0</th>\n      <td>Abby</td>\n      <td>20</td>\n    </tr>\n    <tr>\n      <th>1</th>\n      <td>Bob</td>\n      <td>15</td>\n    </tr>\n    <tr>\n      <th>2</th>\n      <td>Chris</td>\n      <td>28</td>\n    </tr>\n  </tbody>\n</table>\n</div>"
     },
     "metadata": {},
     "execution_count": 15
    }
   ],
   "source": [
    "df.drop(columns='greater_than_18')"
   ]
  },
  {
   "cell_type": "code",
   "execution_count": 16,
   "metadata": {},
   "outputs": [
    {
     "output_type": "stream",
     "name": "stdout",
     "text": [
      "Index(['name', 'Age', 'greater_than_18'], dtype='object')\n"
     ]
    }
   ],
   "source": [
    "print(df.columns)"
   ]
  },
  {
   "cell_type": "code",
   "execution_count": 17,
   "metadata": {},
   "outputs": [
    {
     "output_type": "stream",
     "name": "stdout",
     "text": [
      "Index(['name', 'Age', 'greater_than_18'], dtype='object')\nIndex(['name', 'Age'], dtype='object')\n"
     ]
    }
   ],
   "source": [
    "# 刪除df中的greater_than_18欄位，將會回傳刪掉此欄位的dataframe出來\n",
    "df.drop(columns='greater_than_18')\n",
    "\n",
    "# 若沒有把上面的結果存下來，df這個dataframe仍然會有兩個欄位\n",
    "print(df.columns)\n",
    "\n",
    "# 如果我們想要在刪除欄位後不回傳任何東西，而是直接將結果存入原本的變數中，可以使用inplace這個參數\n",
    "df.drop(columns='greater_than_18', inplace=True)\n",
    "\n",
    "# 看看設定inplace=True後資料是不是就少了這個欄位了\n",
    "print(df.columns)"
   ]
  }
 ]
}