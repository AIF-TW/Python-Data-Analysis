{
 "metadata": {
  "language_info": {
   "codemirror_mode": {
    "name": "python",
    "version": 3
   },
   "file_extension": ".py",
   "mimetype": "text/x-python",
   "name": "python",
   "nbconvert_exporter": "python",
   "pygments_lexer": "ipython3",
   "version": 3
  },
  "orig_nbformat": 2
 },
 "nbformat": 4,
 "nbformat_minor": 2,
 "cells": [
  {
   "source": [
    "## Numpy內的其他模組\n",
    "\n",
    "由於numpy提供的是通用性的陣列物件，除了上述的基本功能之外，也有其他模組供使用者進行其他的數學運算，在此我們介紹兩個較常使用的模組，分別為線性代數模組與隨機模組。"
   ],
   "cell_type": "markdown",
   "metadata": {}
  },
  {
   "source": [
    "- ### 線性代數模組\n",
    "\n",
    "在numpy中，二維的陣列即可以當作矩陣來使用，因此在numpy.linalg 模組中提供許多針對矩陣進行操作的函數和方法。在此我們簡單介紹如何將一個矩陣作轉置、得到它的反矩陣、以及做內積。\n",
    "\n",
    "轉置矩陣：m \\* n 矩陣在向量空間上轉置為 n \\* m 矩陣  \n",
    "反矩陣：n \\* n 矩陣 A 存在一個 n \\* n 矩陣 B，使得 AB = BA = I"
   ],
   "cell_type": "markdown",
   "metadata": {}
  },
  {
   "cell_type": "code",
   "execution_count": null,
   "metadata": {},
   "outputs": [],
   "source": [
    "# 創建一個二維陣列，可視為矩陣\n",
    "x = np.array([[0, 1],\n",
    "              [2, 3]])\n",
    "\n",
    "print(x)"
   ]
  },
  {
   "cell_type": "code",
   "execution_count": null,
   "metadata": {},
   "outputs": [],
   "source": [
    "# 取得x的轉置矩陣\n",
    "print(x.T)\n",
    "# [[0, 2],\n",
    "#  [1, 3]]"
   ]
  },
  {
   "cell_type": "code",
   "execution_count": null,
   "metadata": {},
   "outputs": [],
   "source": [
    "# 取得x的反矩陣\n",
    "inverse = np.linalg.inv(x)\n",
    "print(inverse)\n",
    "# [[-1.5, 0.5],\n",
    "#  [1,    0]]"
   ]
  },
  {
   "cell_type": "code",
   "execution_count": null,
   "metadata": {},
   "outputs": [],
   "source": [
    "# 將x與x的反矩陣進行內積，結果應為單位矩陣\n",
    "print(np.dot(x, inverse))\n",
    "# [[ 1.  0.]\n",
    "#  [ 0.  1.]]"
   ]
  },
  {
   "source": [
    "- ### 隨機模組\n",
    "\n",
    "在數學運算或模擬的過程中，我們很常需要隨機地產生數字，此時我們就可以使用numpy的隨機模組。"
   ],
   "cell_type": "markdown",
   "metadata": {}
  },
  {
   "cell_type": "code",
   "execution_count": null,
   "metadata": {},
   "outputs": [],
   "source": [
    "# 設定隨機種子\n",
    "np.random.seed(seed=818)\n",
    "\n",
    "# 使用np.random模組產生隨機整數\n",
    "# 設定範圍為1到10，並且產生5個隨機整數 (每個整數出現的機率相同)\n",
    "print(np.random.randint(low=1, high=10, size=5))"
   ]
  },
  {
   "cell_type": "code",
   "execution_count": null,
   "metadata": {},
   "outputs": [],
   "source": [
    "# 從標準常態分配中取得10個數字\n",
    "print(np.random.randn(10))"
   ]
  },
  {
   "source": [
    "大家可能會疑惑一開始的隨機種子到底是甚麼意思，事實上在電腦裡面所取的隨機數並非真正的隨機，而是透過演算法所產生出來的隨機數字，這樣的方式又被稱為偽隨機(Pseudo-Randomness)。\n",
    "\n",
    "也因為這樣，只要我們給予相同的數字作為輸入給產生隨機數的演算法，就能夠得到一模一樣的同一組隨機數字，這個決定隨機演算法輸出的數字也被稱為隨機種子。在numpy內我們可以使用np.random.seed 設定當使用到隨機模組時要使用的隨機種子數值是多少。"
   ],
   "cell_type": "markdown",
   "metadata": {}
  },
  {
   "cell_type": "code",
   "execution_count": null,
   "metadata": {},
   "outputs": [],
   "source": [
    "# 設定隨機種子為10，並且從標準常態分配中抽取一個樣本\n",
    "np.random.seed(seed=10)\n",
    "print(np.random.randn(1))\n",
    "\n",
    "# 再一次設定這次要用的隨機種子是10，看看我們可不可以得到相同的結果\n",
    "np.random.seed(seed=10)\n",
    "print(np.random.randn(1))"
   ]
  }
 ]
}
